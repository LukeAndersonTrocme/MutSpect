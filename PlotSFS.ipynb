{
 "cells": [
  {
   "cell_type": "code",
   "execution_count": 1,
   "metadata": {},
   "outputs": [],
   "source": [
    "import pickle\n",
    "import matplotlib.pyplot as plt\n",
    "from operator import itemgetter\n",
    "import pandas as pd\n",
    "import glob\n",
    "from collections import Counter\n",
    "import sys\n",
    "import os\n",
    "import argparse"
   ]
  },
  {
   "cell_type": "code",
   "execution_count": 3,
   "metadata": {},
   "outputs": [],
   "source": [
    "#SFS=pickle.load(open('/Users/luke/genomes/genomes/hg19/AncestralRef/RunAll/Chr22_AlleleFrequencyPerPopDay.txt', \"rb\"))"
   ]
  },
  {
   "cell_type": "code",
   "execution_count": 3,
   "metadata": {},
   "outputs": [],
   "source": [
    "names=pd.read_table(\n",
    "        '/Users/luke/bin/smaller_mut_spectrum_pipeline/Name.Pop.Day.txt', \n",
    "        sep=' ', names=['Name','Pop_Day'])\n",
    "Pops=list(names['Pop_Day'].unique())\n",
    "\n",
    "AF=Counter()\n",
    "list_of_files = glob.glob(\n",
    "    '/Users/luke/genomes/genomes/hg19/AncestralRef/RunAll/Chr2*_AlleleFrequencyPerPopDay.txt')"
   ]
  },
  {
   "cell_type": "code",
   "execution_count": 4,
   "metadata": {},
   "outputs": [
    {
     "name": "stdout",
     "output_type": "stream",
     "text": [
      "/Users/luke/genomes/genomes/hg19/AncestralRef/RunAll/Chr20_AlleleFrequencyPerPopDay.txt\n",
      "25165936\n",
      "/Users/luke/genomes/genomes/hg19/AncestralRef/RunAll/Chr21_AlleleFrequencyPerPopDay.txt\n",
      "50331760\n",
      "/Users/luke/genomes/genomes/hg19/AncestralRef/RunAll/Chr22_AlleleFrequencyPerPopDay.txt\n",
      "50331760\n"
     ]
    }
   ],
   "source": [
    "for file_name in list_of_files:\n",
    "        if os.path.getsize(file_name) > 0:\n",
    "            print(file_name)\n",
    "            if sys.getsizeof(AF) > 800000000:\n",
    "                print('##Output Dump 1')\n",
    "                AFname1 = args.outDir +'AlleleFrequencyDUMP1.txt'\n",
    "                with open(AFname1, 'wb') as outputfile:\n",
    "                    pickle.dump(AF, outputfile)\n",
    "                AF = Counter()\n",
    "            AF = AF + pickle.load(open(file_name, \"rb\"))\n",
    "            print(sys.getsizeof(AF))"
   ]
  },
  {
   "cell_type": "code",
   "execution_count": null,
   "metadata": {},
   "outputs": [],
   "source": [
    "print('##Output Dump 2')\n",
    "AFname2 = args.outDir +'AlleleFrequencyDUMP2.txt'\n",
    "with open(AFname2, 'wb') as outputfile:\n",
    "    pickle.dump(AF, outputfile)\n",
    "\n",
    "AF = AF + pickle.load(open(args.out +'AlleleFrequencyDUMP1.txt', \"rb\"))\n",
    "D=pd.DataFrame.from_dict(AF,orient='index').reset_index()\n",
    "D[Pops] = D['index'].apply(pd.Series)\n",
    "D=D.drop(['index'], axis=1)\n",
    "D.columns.values[0] = 'Count'"
   ]
  },
  {
   "cell_type": "code",
   "execution_count": null,
   "metadata": {},
   "outputs": [],
   "source": []
  },
  {
   "cell_type": "code",
   "execution_count": null,
   "metadata": {},
   "outputs": [],
   "source": []
  }
 ],
 "metadata": {
  "kernelspec": {
   "display_name": "Python [default]",
   "language": "python",
   "name": "python3"
  },
  "language_info": {
   "codemirror_mode": {
    "name": "ipython",
    "version": 3
   },
   "file_extension": ".py",
   "mimetype": "text/x-python",
   "name": "python",
   "nbconvert_exporter": "python",
   "pygments_lexer": "ipython3",
   "version": "3.5.2"
  }
 },
 "nbformat": 4,
 "nbformat_minor": 2
}
